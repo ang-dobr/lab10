{
  "nbformat": 4,
  "nbformat_minor": 0,
  "metadata": {
    "kernelspec": {
      "display_name": "Python 3",
      "language": "python",
      "name": "python3"
    },
    "language_info": {
      "codemirror_mode": {
        "name": "ipython",
        "version": 2
      },
      "file_extension": ".py",
      "mimetype": "text/x-python",
      "name": "python",
      "nbconvert_exporter": "python",
      "pygments_lexer": "ipython2",
      "version": "2.7.6"
    },
    "colab": {
      "name": "Eco_task.ipynb",
      "provenance": []
    }
  },
  "cells": [
    {
      "cell_type": "markdown",
      "metadata": {
        "collapsed": false,
        "id": "h7mPcnqH-Mr7"
      },
      "source": [
        "# Задание 10.\n",
        "\n",
        "Вам предоставлен набор данных по качеству воздуха в китайских городах в виде csv файлов.\n",
        "Основная метрика, которая показывает качество воздуха - PM25(<a href='https://www.ncbi.nlm.nih.gov/pmc/articles/PMC4740125/'>подробнее о PM25</a>), указана в колонках, которые начинаются на PM_.\n",
        "Остальные столбцы содержат либо данные о времени, в которое были произведены измерения, либо данные о погоде в этот момент. DEWP - точка росы, HUMI - влажность, PRES - давление, TEMP - температура, cbwd - направление ветра, Iws - его скорость, precipation - осадки, Iprec - накопленные осадки.\n",
        "\n",
        "Для выполнения задания необходимо ответить на вопросы по данным, заполнив ячейки ноутбука. Сам ноутбук необходимо выложить в виде отдельного репозитория на github. Ссылку для клонирования репозитория необходимо приложить в решение задания."
      ]
    },
    {
      "cell_type": "markdown",
      "metadata": {
        "collapsed": false,
        "id": "GETGXBed-MsC"
      },
      "source": [
        "## 1. Загрузите в виде DataFrame набор данных по качеству воздуха Пекина\n",
        "Ссылка на набор данных: https://disk.yandex.ru/d/1UKJoV1ULW1NLQ"
      ]
    },
    {
      "cell_type": "code",
      "metadata": {
        "id": "NpIfawvqH4Ew"
      },
      "source": [
        "import pandas as pd\n",
        "import numpy as np"
      ],
      "execution_count": 3,
      "outputs": []
    },
    {
      "cell_type": "code",
      "metadata": {
        "id": "zrDaRFiNH6RI"
      },
      "source": [
        "data = pd.read_csv('BeijingPM20100101_20151231.csv')"
      ],
      "execution_count": 8,
      "outputs": []
    },
    {
      "cell_type": "code",
      "metadata": {
        "colab": {
          "base_uri": "https://localhost:8080/",
          "height": 206
        },
        "id": "61S7wLN6kXxx",
        "outputId": "fd83758e-bd91-46d3-c44d-4b6b074b3dd8"
      },
      "source": [
        "data.head()"
      ],
      "execution_count": 9,
      "outputs": [
        {
          "output_type": "execute_result",
          "data": {
            "text/html": [
              "<div>\n",
              "<style scoped>\n",
              "    .dataframe tbody tr th:only-of-type {\n",
              "        vertical-align: middle;\n",
              "    }\n",
              "\n",
              "    .dataframe tbody tr th {\n",
              "        vertical-align: top;\n",
              "    }\n",
              "\n",
              "    .dataframe thead th {\n",
              "        text-align: right;\n",
              "    }\n",
              "</style>\n",
              "<table border=\"1\" class=\"dataframe\">\n",
              "  <thead>\n",
              "    <tr style=\"text-align: right;\">\n",
              "      <th></th>\n",
              "      <th>No</th>\n",
              "      <th>year</th>\n",
              "      <th>month</th>\n",
              "      <th>day</th>\n",
              "      <th>hour</th>\n",
              "      <th>season</th>\n",
              "      <th>PM_Dongsi</th>\n",
              "      <th>PM_Dongsihuan</th>\n",
              "      <th>PM_Nongzhanguan</th>\n",
              "      <th>PM_US Post</th>\n",
              "      <th>DEWP</th>\n",
              "      <th>HUMI</th>\n",
              "      <th>PRES</th>\n",
              "      <th>TEMP</th>\n",
              "      <th>cbwd</th>\n",
              "      <th>Iws</th>\n",
              "      <th>precipitation</th>\n",
              "      <th>Iprec</th>\n",
              "    </tr>\n",
              "  </thead>\n",
              "  <tbody>\n",
              "    <tr>\n",
              "      <th>0</th>\n",
              "      <td>1</td>\n",
              "      <td>2010</td>\n",
              "      <td>1</td>\n",
              "      <td>1</td>\n",
              "      <td>0</td>\n",
              "      <td>4</td>\n",
              "      <td>NaN</td>\n",
              "      <td>NaN</td>\n",
              "      <td>NaN</td>\n",
              "      <td>NaN</td>\n",
              "      <td>-21.0</td>\n",
              "      <td>43.0</td>\n",
              "      <td>1021.0</td>\n",
              "      <td>-11.0</td>\n",
              "      <td>NW</td>\n",
              "      <td>1.79</td>\n",
              "      <td>0.0</td>\n",
              "      <td>0.0</td>\n",
              "    </tr>\n",
              "    <tr>\n",
              "      <th>1</th>\n",
              "      <td>2</td>\n",
              "      <td>2010</td>\n",
              "      <td>1</td>\n",
              "      <td>1</td>\n",
              "      <td>1</td>\n",
              "      <td>4</td>\n",
              "      <td>NaN</td>\n",
              "      <td>NaN</td>\n",
              "      <td>NaN</td>\n",
              "      <td>NaN</td>\n",
              "      <td>-21.0</td>\n",
              "      <td>47.0</td>\n",
              "      <td>1020.0</td>\n",
              "      <td>-12.0</td>\n",
              "      <td>NW</td>\n",
              "      <td>4.92</td>\n",
              "      <td>0.0</td>\n",
              "      <td>0.0</td>\n",
              "    </tr>\n",
              "    <tr>\n",
              "      <th>2</th>\n",
              "      <td>3</td>\n",
              "      <td>2010</td>\n",
              "      <td>1</td>\n",
              "      <td>1</td>\n",
              "      <td>2</td>\n",
              "      <td>4</td>\n",
              "      <td>NaN</td>\n",
              "      <td>NaN</td>\n",
              "      <td>NaN</td>\n",
              "      <td>NaN</td>\n",
              "      <td>-21.0</td>\n",
              "      <td>43.0</td>\n",
              "      <td>1019.0</td>\n",
              "      <td>-11.0</td>\n",
              "      <td>NW</td>\n",
              "      <td>6.71</td>\n",
              "      <td>0.0</td>\n",
              "      <td>0.0</td>\n",
              "    </tr>\n",
              "    <tr>\n",
              "      <th>3</th>\n",
              "      <td>4</td>\n",
              "      <td>2010</td>\n",
              "      <td>1</td>\n",
              "      <td>1</td>\n",
              "      <td>3</td>\n",
              "      <td>4</td>\n",
              "      <td>NaN</td>\n",
              "      <td>NaN</td>\n",
              "      <td>NaN</td>\n",
              "      <td>NaN</td>\n",
              "      <td>-21.0</td>\n",
              "      <td>55.0</td>\n",
              "      <td>1019.0</td>\n",
              "      <td>-14.0</td>\n",
              "      <td>NW</td>\n",
              "      <td>9.84</td>\n",
              "      <td>0.0</td>\n",
              "      <td>0.0</td>\n",
              "    </tr>\n",
              "    <tr>\n",
              "      <th>4</th>\n",
              "      <td>5</td>\n",
              "      <td>2010</td>\n",
              "      <td>1</td>\n",
              "      <td>1</td>\n",
              "      <td>4</td>\n",
              "      <td>4</td>\n",
              "      <td>NaN</td>\n",
              "      <td>NaN</td>\n",
              "      <td>NaN</td>\n",
              "      <td>NaN</td>\n",
              "      <td>-20.0</td>\n",
              "      <td>51.0</td>\n",
              "      <td>1018.0</td>\n",
              "      <td>-12.0</td>\n",
              "      <td>NW</td>\n",
              "      <td>12.97</td>\n",
              "      <td>0.0</td>\n",
              "      <td>0.0</td>\n",
              "    </tr>\n",
              "  </tbody>\n",
              "</table>\n",
              "</div>"
            ],
            "text/plain": [
              "   No  year  month  day  hour  ...  TEMP  cbwd    Iws  precipitation  Iprec\n",
              "0   1  2010      1    1     0  ... -11.0    NW   1.79            0.0    0.0\n",
              "1   2  2010      1    1     1  ... -12.0    NW   4.92            0.0    0.0\n",
              "2   3  2010      1    1     2  ... -11.0    NW   6.71            0.0    0.0\n",
              "3   4  2010      1    1     3  ... -14.0    NW   9.84            0.0    0.0\n",
              "4   5  2010      1    1     4  ... -12.0    NW  12.97            0.0    0.0\n",
              "\n",
              "[5 rows x 18 columns]"
            ]
          },
          "metadata": {},
          "execution_count": 9
        }
      ]
    },
    {
      "cell_type": "markdown",
      "metadata": {
        "collapsed": false,
        "id": "KFK1zLIo-MsE"
      },
      "source": [
        "## 2. Сколько всего строк находится в наборе данных?"
      ]
    },
    {
      "cell_type": "code",
      "metadata": {
        "pycharm": {
          "name": "#%%\n"
        },
        "id": "1LId2k5P-MsF",
        "colab": {
          "base_uri": "https://localhost:8080/"
        },
        "outputId": "53c7d1ba-a0e5-4b6c-c57e-e5ebfedb88a2"
      },
      "source": [
        "data.shape[0]"
      ],
      "execution_count": 10,
      "outputs": [
        {
          "output_type": "execute_result",
          "data": {
            "text/plain": [
              "52584"
            ]
          },
          "metadata": {},
          "execution_count": 10
        }
      ]
    },
    {
      "cell_type": "markdown",
      "metadata": {
        "collapsed": false,
        "id": "zrXHBruB-MsF"
      },
      "source": [
        "## 3. Сколько измерений уровня загрязнения воздуха находится в наборе данных?"
      ]
    },
    {
      "cell_type": "code",
      "metadata": {
        "pycharm": {
          "name": "#%%\n"
        },
        "id": "j1PvUOzc-MsG",
        "colab": {
          "base_uri": "https://localhost:8080/"
        },
        "outputId": "e897bd16-6747-4e22-f5c7-6cc4ce0f8293"
      },
      "source": [
        "data.shape[0] * 4 - (data.PM_Dongsi.isna().sum() + data.PM_Dongsihuan.isna().sum() + data.PM_Nongzhanguan.isna().sum() + data['PM_US Post'].isna().sum())"
      ],
      "execution_count": 11,
      "outputs": [
        {
          "output_type": "execute_result",
          "data": {
            "text/plain": [
              "120878"
            ]
          },
          "metadata": {},
          "execution_count": 11
        }
      ]
    },
    {
      "cell_type": "markdown",
      "metadata": {
        "collapsed": false,
        "id": "Tcc75tmu-MsH"
      },
      "source": [
        "## 4. Введите столбец среднего качества воздуха PM_mean с усреднением показаний со всех станций слежения."
      ]
    },
    {
      "cell_type": "code",
      "metadata": {
        "pycharm": {
          "name": "#%%\n"
        },
        "id": "wPTwpZaU-MsH"
      },
      "source": [
        "data['PM_Dongsi'] = data['PM_Dongsi'].fillna(data['PM_Dongsi'].mean())\n",
        "data['PM_Dongsihuan'] = data['PM_Dongsihuan'].fillna(data['PM_Dongsihuan'].mean())\n",
        "data['PM_Nongzhanguan'] = data['PM_Nongzhanguan'].fillna(data['PM_Nongzhanguan'].mean())\n",
        "data['PM_US Post'] = data['PM_US Post'].fillna(data['PM_US Post'].mean())"
      ],
      "execution_count": 12,
      "outputs": []
    },
    {
      "cell_type": "code",
      "metadata": {
        "colab": {
          "base_uri": "https://localhost:8080/"
        },
        "id": "uwPhzkHpI2Mw",
        "outputId": "2443868f-01fd-46a9-a9ff-ee24f24e6a31"
      },
      "source": [
        "data['PM_mean'] = range(0, data.shape[0])\n",
        "for i in range(0, data.shape[0]):\n",
        "  data['PM_mean'][i] = (data.PM_Dongsi[i] + data.PM_Dongsihuan[i] + data.PM_Nongzhanguan[i] + data['PM_US Post'][i])/4"
      ],
      "execution_count": 13,
      "outputs": [
        {
          "output_type": "stream",
          "name": "stderr",
          "text": [
            "/usr/local/lib/python3.7/dist-packages/ipykernel_launcher.py:3: SettingWithCopyWarning: \n",
            "A value is trying to be set on a copy of a slice from a DataFrame\n",
            "\n",
            "See the caveats in the documentation: https://pandas.pydata.org/pandas-docs/stable/user_guide/indexing.html#returning-a-view-versus-a-copy\n",
            "  This is separate from the ipykernel package so we can avoid doing imports until\n"
          ]
        }
      ]
    },
    {
      "cell_type": "code",
      "metadata": {
        "colab": {
          "base_uri": "https://localhost:8080/",
          "height": 423
        },
        "id": "aIbzxOnTMPmP",
        "outputId": "98329c95-988b-4b9f-d19e-1610802ad474"
      },
      "source": [
        "data"
      ],
      "execution_count": 14,
      "outputs": [
        {
          "output_type": "execute_result",
          "data": {
            "text/html": [
              "<div>\n",
              "<style scoped>\n",
              "    .dataframe tbody tr th:only-of-type {\n",
              "        vertical-align: middle;\n",
              "    }\n",
              "\n",
              "    .dataframe tbody tr th {\n",
              "        vertical-align: top;\n",
              "    }\n",
              "\n",
              "    .dataframe thead th {\n",
              "        text-align: right;\n",
              "    }\n",
              "</style>\n",
              "<table border=\"1\" class=\"dataframe\">\n",
              "  <thead>\n",
              "    <tr style=\"text-align: right;\">\n",
              "      <th></th>\n",
              "      <th>No</th>\n",
              "      <th>year</th>\n",
              "      <th>month</th>\n",
              "      <th>day</th>\n",
              "      <th>hour</th>\n",
              "      <th>season</th>\n",
              "      <th>PM_Dongsi</th>\n",
              "      <th>PM_Dongsihuan</th>\n",
              "      <th>PM_Nongzhanguan</th>\n",
              "      <th>PM_US Post</th>\n",
              "      <th>DEWP</th>\n",
              "      <th>HUMI</th>\n",
              "      <th>PRES</th>\n",
              "      <th>TEMP</th>\n",
              "      <th>cbwd</th>\n",
              "      <th>Iws</th>\n",
              "      <th>precipitation</th>\n",
              "      <th>Iprec</th>\n",
              "      <th>PM_mean</th>\n",
              "    </tr>\n",
              "  </thead>\n",
              "  <tbody>\n",
              "    <tr>\n",
              "      <th>0</th>\n",
              "      <td>1</td>\n",
              "      <td>2010</td>\n",
              "      <td>1</td>\n",
              "      <td>1</td>\n",
              "      <td>0</td>\n",
              "      <td>4</td>\n",
              "      <td>89.154439</td>\n",
              "      <td>92.560806</td>\n",
              "      <td>88.643737</td>\n",
              "      <td>95.904241</td>\n",
              "      <td>-21.0</td>\n",
              "      <td>43.0</td>\n",
              "      <td>1021.0</td>\n",
              "      <td>-11.0</td>\n",
              "      <td>NW</td>\n",
              "      <td>1.79</td>\n",
              "      <td>0.0</td>\n",
              "      <td>0.0</td>\n",
              "      <td>91</td>\n",
              "    </tr>\n",
              "    <tr>\n",
              "      <th>1</th>\n",
              "      <td>2</td>\n",
              "      <td>2010</td>\n",
              "      <td>1</td>\n",
              "      <td>1</td>\n",
              "      <td>1</td>\n",
              "      <td>4</td>\n",
              "      <td>89.154439</td>\n",
              "      <td>92.560806</td>\n",
              "      <td>88.643737</td>\n",
              "      <td>95.904241</td>\n",
              "      <td>-21.0</td>\n",
              "      <td>47.0</td>\n",
              "      <td>1020.0</td>\n",
              "      <td>-12.0</td>\n",
              "      <td>NW</td>\n",
              "      <td>4.92</td>\n",
              "      <td>0.0</td>\n",
              "      <td>0.0</td>\n",
              "      <td>91</td>\n",
              "    </tr>\n",
              "    <tr>\n",
              "      <th>2</th>\n",
              "      <td>3</td>\n",
              "      <td>2010</td>\n",
              "      <td>1</td>\n",
              "      <td>1</td>\n",
              "      <td>2</td>\n",
              "      <td>4</td>\n",
              "      <td>89.154439</td>\n",
              "      <td>92.560806</td>\n",
              "      <td>88.643737</td>\n",
              "      <td>95.904241</td>\n",
              "      <td>-21.0</td>\n",
              "      <td>43.0</td>\n",
              "      <td>1019.0</td>\n",
              "      <td>-11.0</td>\n",
              "      <td>NW</td>\n",
              "      <td>6.71</td>\n",
              "      <td>0.0</td>\n",
              "      <td>0.0</td>\n",
              "      <td>91</td>\n",
              "    </tr>\n",
              "    <tr>\n",
              "      <th>3</th>\n",
              "      <td>4</td>\n",
              "      <td>2010</td>\n",
              "      <td>1</td>\n",
              "      <td>1</td>\n",
              "      <td>3</td>\n",
              "      <td>4</td>\n",
              "      <td>89.154439</td>\n",
              "      <td>92.560806</td>\n",
              "      <td>88.643737</td>\n",
              "      <td>95.904241</td>\n",
              "      <td>-21.0</td>\n",
              "      <td>55.0</td>\n",
              "      <td>1019.0</td>\n",
              "      <td>-14.0</td>\n",
              "      <td>NW</td>\n",
              "      <td>9.84</td>\n",
              "      <td>0.0</td>\n",
              "      <td>0.0</td>\n",
              "      <td>91</td>\n",
              "    </tr>\n",
              "    <tr>\n",
              "      <th>4</th>\n",
              "      <td>5</td>\n",
              "      <td>2010</td>\n",
              "      <td>1</td>\n",
              "      <td>1</td>\n",
              "      <td>4</td>\n",
              "      <td>4</td>\n",
              "      <td>89.154439</td>\n",
              "      <td>92.560806</td>\n",
              "      <td>88.643737</td>\n",
              "      <td>95.904241</td>\n",
              "      <td>-20.0</td>\n",
              "      <td>51.0</td>\n",
              "      <td>1018.0</td>\n",
              "      <td>-12.0</td>\n",
              "      <td>NW</td>\n",
              "      <td>12.97</td>\n",
              "      <td>0.0</td>\n",
              "      <td>0.0</td>\n",
              "      <td>91</td>\n",
              "    </tr>\n",
              "    <tr>\n",
              "      <th>...</th>\n",
              "      <td>...</td>\n",
              "      <td>...</td>\n",
              "      <td>...</td>\n",
              "      <td>...</td>\n",
              "      <td>...</td>\n",
              "      <td>...</td>\n",
              "      <td>...</td>\n",
              "      <td>...</td>\n",
              "      <td>...</td>\n",
              "      <td>...</td>\n",
              "      <td>...</td>\n",
              "      <td>...</td>\n",
              "      <td>...</td>\n",
              "      <td>...</td>\n",
              "      <td>...</td>\n",
              "      <td>...</td>\n",
              "      <td>...</td>\n",
              "      <td>...</td>\n",
              "      <td>...</td>\n",
              "    </tr>\n",
              "    <tr>\n",
              "      <th>52579</th>\n",
              "      <td>52580</td>\n",
              "      <td>2015</td>\n",
              "      <td>12</td>\n",
              "      <td>31</td>\n",
              "      <td>19</td>\n",
              "      <td>4</td>\n",
              "      <td>140.000000</td>\n",
              "      <td>157.000000</td>\n",
              "      <td>122.000000</td>\n",
              "      <td>133.000000</td>\n",
              "      <td>-8.0</td>\n",
              "      <td>68.0</td>\n",
              "      <td>1031.0</td>\n",
              "      <td>-3.0</td>\n",
              "      <td>SE</td>\n",
              "      <td>7.14</td>\n",
              "      <td>0.0</td>\n",
              "      <td>0.0</td>\n",
              "      <td>138</td>\n",
              "    </tr>\n",
              "    <tr>\n",
              "      <th>52580</th>\n",
              "      <td>52581</td>\n",
              "      <td>2015</td>\n",
              "      <td>12</td>\n",
              "      <td>31</td>\n",
              "      <td>20</td>\n",
              "      <td>4</td>\n",
              "      <td>157.000000</td>\n",
              "      <td>199.000000</td>\n",
              "      <td>149.000000</td>\n",
              "      <td>169.000000</td>\n",
              "      <td>-8.0</td>\n",
              "      <td>63.0</td>\n",
              "      <td>1030.0</td>\n",
              "      <td>-2.0</td>\n",
              "      <td>SE</td>\n",
              "      <td>8.03</td>\n",
              "      <td>0.0</td>\n",
              "      <td>0.0</td>\n",
              "      <td>168</td>\n",
              "    </tr>\n",
              "    <tr>\n",
              "      <th>52581</th>\n",
              "      <td>52582</td>\n",
              "      <td>2015</td>\n",
              "      <td>12</td>\n",
              "      <td>31</td>\n",
              "      <td>21</td>\n",
              "      <td>4</td>\n",
              "      <td>171.000000</td>\n",
              "      <td>231.000000</td>\n",
              "      <td>196.000000</td>\n",
              "      <td>203.000000</td>\n",
              "      <td>-10.0</td>\n",
              "      <td>73.0</td>\n",
              "      <td>1030.0</td>\n",
              "      <td>-6.0</td>\n",
              "      <td>NE</td>\n",
              "      <td>0.89</td>\n",
              "      <td>0.0</td>\n",
              "      <td>0.0</td>\n",
              "      <td>200</td>\n",
              "    </tr>\n",
              "    <tr>\n",
              "      <th>52582</th>\n",
              "      <td>52583</td>\n",
              "      <td>2015</td>\n",
              "      <td>12</td>\n",
              "      <td>31</td>\n",
              "      <td>22</td>\n",
              "      <td>4</td>\n",
              "      <td>204.000000</td>\n",
              "      <td>242.000000</td>\n",
              "      <td>221.000000</td>\n",
              "      <td>212.000000</td>\n",
              "      <td>-10.0</td>\n",
              "      <td>73.0</td>\n",
              "      <td>1030.0</td>\n",
              "      <td>-6.0</td>\n",
              "      <td>NE</td>\n",
              "      <td>1.78</td>\n",
              "      <td>0.0</td>\n",
              "      <td>0.0</td>\n",
              "      <td>219</td>\n",
              "    </tr>\n",
              "    <tr>\n",
              "      <th>52583</th>\n",
              "      <td>52584</td>\n",
              "      <td>2015</td>\n",
              "      <td>12</td>\n",
              "      <td>31</td>\n",
              "      <td>23</td>\n",
              "      <td>4</td>\n",
              "      <td>89.154439</td>\n",
              "      <td>92.560806</td>\n",
              "      <td>88.643737</td>\n",
              "      <td>235.000000</td>\n",
              "      <td>-9.0</td>\n",
              "      <td>79.0</td>\n",
              "      <td>1029.0</td>\n",
              "      <td>-6.0</td>\n",
              "      <td>NE</td>\n",
              "      <td>2.67</td>\n",
              "      <td>0.0</td>\n",
              "      <td>0.0</td>\n",
              "      <td>126</td>\n",
              "    </tr>\n",
              "  </tbody>\n",
              "</table>\n",
              "<p>52584 rows × 19 columns</p>\n",
              "</div>"
            ],
            "text/plain": [
              "          No  year  month  day  hour  ...  cbwd    Iws  precipitation  Iprec  PM_mean\n",
              "0          1  2010      1    1     0  ...    NW   1.79            0.0    0.0       91\n",
              "1          2  2010      1    1     1  ...    NW   4.92            0.0    0.0       91\n",
              "2          3  2010      1    1     2  ...    NW   6.71            0.0    0.0       91\n",
              "3          4  2010      1    1     3  ...    NW   9.84            0.0    0.0       91\n",
              "4          5  2010      1    1     4  ...    NW  12.97            0.0    0.0       91\n",
              "...      ...   ...    ...  ...   ...  ...   ...    ...            ...    ...      ...\n",
              "52579  52580  2015     12   31    19  ...    SE   7.14            0.0    0.0      138\n",
              "52580  52581  2015     12   31    20  ...    SE   8.03            0.0    0.0      168\n",
              "52581  52582  2015     12   31    21  ...    NE   0.89            0.0    0.0      200\n",
              "52582  52583  2015     12   31    22  ...    NE   1.78            0.0    0.0      219\n",
              "52583  52584  2015     12   31    23  ...    NE   2.67            0.0    0.0      126\n",
              "\n",
              "[52584 rows x 19 columns]"
            ]
          },
          "metadata": {},
          "execution_count": 14
        }
      ]
    },
    {
      "cell_type": "markdown",
      "metadata": {
        "collapsed": false,
        "id": "mDS1D21k-MsI"
      },
      "source": [
        "## 5. Какое направление ветра преобладает в Пекине?"
      ]
    },
    {
      "cell_type": "code",
      "metadata": {
        "pycharm": {
          "name": "#%%\n"
        },
        "id": "rBOz-6XF-MsI",
        "colab": {
          "base_uri": "https://localhost:8080/",
          "height": 35
        },
        "outputId": "5c61432b-ecf0-43a5-fb6d-84a3ba22f180"
      },
      "source": [
        "data['cbwd'].value_counts().idxmax()"
      ],
      "execution_count": 15,
      "outputs": [
        {
          "output_type": "execute_result",
          "data": {
            "application/vnd.google.colaboratory.intrinsic+json": {
              "type": "string"
            },
            "text/plain": [
              "'SE'"
            ]
          },
          "metadata": {},
          "execution_count": 15
        }
      ]
    },
    {
      "cell_type": "markdown",
      "metadata": {
        "collapsed": false,
        "id": "dniLY6wM-MsJ"
      },
      "source": [
        "## 6. В какой день качество воздуха является наихудшим(самая большая концентрация частиц)? Вывести дату в типе данных datetime стандартной библиотеки Python."
      ]
    },
    {
      "cell_type": "code",
      "metadata": {
        "id": "X8UBb2hZW3E9"
      },
      "source": [
        "from datetime import date"
      ],
      "execution_count": 16,
      "outputs": []
    },
    {
      "cell_type": "code",
      "metadata": {
        "pycharm": {
          "name": "#%%\n"
        },
        "id": "fjW_F1RO-MsJ",
        "colab": {
          "base_uri": "https://localhost:8080/"
        },
        "outputId": "bf74ed60-d88b-45bb-a9fb-84aaa0dc25a4"
      },
      "source": [
        "max = 0\n",
        "a = ''\n",
        "for i in range(0, data.shape[0]):\n",
        "  if data.PM_Dongsi[i] + data.PM_Dongsihuan[i] + data.PM_Nongzhanguan[i] + data['PM_US Post'][i] > max:\n",
        "    max = i\n",
        "print(date(day = data['day'][max], month = data['month'][max], year = data['year'][max]))"
      ],
      "execution_count": 17,
      "outputs": [
        {
          "output_type": "stream",
          "name": "stdout",
          "text": [
            "2012-01-23\n"
          ]
        }
      ]
    },
    {
      "cell_type": "markdown",
      "metadata": {
        "collapsed": false,
        "id": "-izzVUNh-MsK"
      },
      "source": [
        "## 7. Какой из сезонов в Пекине в среднем наименее неблагоприятный для легких за последние 2 года наблюдений?"
      ]
    },
    {
      "cell_type": "code",
      "metadata": {
        "pycharm": {
          "name": "#%%\n"
        },
        "id": "tU_rFb49-MsK",
        "colab": {
          "base_uri": "https://localhost:8080/"
        },
        "outputId": "95f75ecd-d578-4b7b-ade8-c022480faed3"
      },
      "source": [
        "f = 0\n",
        "for i in range(0, data.shape[0]):\n",
        "  if data.year[i] == 2014:\n",
        "    f = i\n",
        "    break\n",
        "m1, m2, m3, m4 = 0, 0, 0, 0\n",
        "c1, c2, c3, c4 = 0, 0, 0, 0\n",
        "for i in range(f, data.shape[0]):\n",
        "  if data.season[i] == 1:\n",
        "    m1 += data.PM_mean[i]\n",
        "    c1 += 1\n",
        "  elif data.season[i] == 2:\n",
        "    m2 += data.PM_mean[i]\n",
        "    c2 += 1\n",
        "  elif data.season[i] == 3:\n",
        "    m3 += data.PM_mean[i]\n",
        "    c3 += 1\n",
        "  elif data.season[i] == 4:\n",
        "    m4 += data.PM_mean[i]\n",
        "    c4 += 1\n",
        "ans1, ans2, ans3, ans4 = m1 / c1, m2 / c2, m3 / c3, m4 / c4\n",
        "l = [ans1, ans2, ans3, ans4]\n",
        "if np.min(l) == ans1:\n",
        "  print('Season 1')\n",
        "elif np.min(l) == ans2:\n",
        "  print('Season 2')\n",
        "elif np.min(l) == ans3:\n",
        "  print('Season 3')\n",
        "elif np.min(l) == ans4:\n",
        "  print('Season 4')"
      ],
      "execution_count": 18,
      "outputs": [
        {
          "output_type": "stream",
          "name": "stdout",
          "text": [
            "Season 2\n"
          ]
        }
      ]
    },
    {
      "cell_type": "markdown",
      "metadata": {
        "collapsed": false,
        "id": "JGI7Opyc-MsK"
      },
      "source": [
        "## 8. Коррелирует ли влажность с качеством воздуха?\n",
        "Можно воспользоваться корреляцией Пирсона из numpy, а также встроенными функциями Pandas."
      ]
    },
    {
      "cell_type": "code",
      "metadata": {
        "id": "C8_dzHvUbYJR"
      },
      "source": [
        "data.HUMI = data.HUMI.fillna(data.HUMI.mean())"
      ],
      "execution_count": 19,
      "outputs": []
    },
    {
      "cell_type": "code",
      "metadata": {
        "pycharm": {
          "name": "#%%\n"
        },
        "id": "4h-nHlxR-MsL",
        "colab": {
          "base_uri": "https://localhost:8080/"
        },
        "outputId": "2ee0850a-f302-430e-95c8-b29e4ecaf1ae"
      },
      "source": [
        "np.corrcoef(data['HUMI'], data.PM_mean)"
      ],
      "execution_count": 20,
      "outputs": [
        {
          "output_type": "execute_result",
          "data": {
            "text/plain": [
              "array([[1.        , 0.34502689],\n",
              "       [0.34502689, 1.        ]])"
            ]
          },
          "metadata": {},
          "execution_count": 20
        }
      ]
    },
    {
      "cell_type": "markdown",
      "metadata": {
        "collapsed": false,
        "id": "eQLaAJ_3-MsL"
      },
      "source": [
        "## 9. Какой из сезонов в Пекине самый дождливый(в среднем по накоплению осадков)?"
      ]
    },
    {
      "cell_type": "code",
      "metadata": {
        "id": "_CxGBfa-k0BW"
      },
      "source": [
        "data['Iprec'] = data['Iprec'].fillna(data['Iprec'].mean())"
      ],
      "execution_count": 21,
      "outputs": []
    },
    {
      "cell_type": "code",
      "metadata": {
        "pycharm": {
          "name": "#%%\n"
        },
        "id": "xMECPP4S-MsM",
        "colab": {
          "base_uri": "https://localhost:8080/"
        },
        "outputId": "acaceebc-8170-48e2-8057-88bd75781fd6"
      },
      "source": [
        "m1, m2, m3, m4 = 0, 0, 0, 0\n",
        "c1, c2, c3, c4 = 0, 0, 0, 0\n",
        "for i in range(0, data.shape[0]):\n",
        "  if data.season[i] == 1:\n",
        "    m1 += data.Iprec[i]\n",
        "    c1 += 1\n",
        "  elif data.season[i] == 2:\n",
        "    m2 += data.Iprec[i]\n",
        "    c2 += 1\n",
        "  elif data.season[i] == 3:\n",
        "    m3 += data.Iprec[i]\n",
        "    c3 += 1\n",
        "  elif data.season[i] == 4:\n",
        "    m4 += data.Iprec[i]\n",
        "    c4 += 1\n",
        "ans1, ans2, ans3, ans4 = m1 / c1, m2 / c2, m3 / c3, m4 / c4\n",
        "l = [ans1, ans2, ans3, ans4]\n",
        "if np.max(l) == ans1:\n",
        "  print('Season 1')\n",
        "elif np.max(l) == ans2:\n",
        "  print('Season 2')\n",
        "elif np.max(l) == ans3:\n",
        "  print('Season 3')\n",
        "elif np.max(l) == ans4:\n",
        "  print('Season 4')"
      ],
      "execution_count": 22,
      "outputs": [
        {
          "output_type": "stream",
          "name": "stdout",
          "text": [
            "Season 3\n"
          ]
        }
      ]
    },
    {
      "cell_type": "markdown",
      "metadata": {
        "collapsed": false,
        "id": "W9BT9xFF-MsM"
      },
      "source": [
        "## 10. Становится ли качество воздуха во время дождя лучше, чем оно было сразу перед дождем?"
      ]
    },
    {
      "cell_type": "code",
      "metadata": {
        "pycharm": {
          "name": "#%%\n"
        },
        "id": "KD0f5GaW-MsM",
        "colab": {
          "base_uri": "https://localhost:8080/"
        },
        "outputId": "e87b91d5-e385-4a27-a282-78e1136f18d1"
      },
      "source": [
        "clear = 0\n",
        "clear_count = 0\n",
        "rain = 0\n",
        "rain_count = 0\n",
        "for i in range(0, data.shape[0]):\n",
        "  if data.Iprec[i] == 0:\n",
        "    clear += data.PM_mean[i]\n",
        "    clear_count += 1\n",
        "  else:\n",
        "    rain += data.PM_mean[i]\n",
        "    rain_count += 1\n",
        "print('Среднее качество воздуха во время дождя: ', rain / rain_count)\n",
        "print('Среднее качество воздуха перед дождём: ', clear / clear_count)"
      ],
      "execution_count": 25,
      "outputs": [
        {
          "output_type": "stream",
          "name": "stdout",
          "text": [
            "Среднее качество воздуха во время дождя:  80.11889511609287\n",
            "Среднее качество воздуха перед дождём:  91.67264305394721\n"
          ]
        }
      ]
    }
  ]
}